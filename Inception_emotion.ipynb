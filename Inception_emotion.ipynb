{
  "nbformat": 4,
  "nbformat_minor": 0,
  "metadata": {
    "colab": {
      "name": "Inception emotion.ipynb",
      "provenance": [],
      "collapsed_sections": [],
      "mount_file_id": "1_UCifva1Y0vorh2GQew__Y5y0d4KzDz6",
      "authorship_tag": "ABX9TyMlWPS4OR3Xef4NUfuJB4qZ",
      "include_colab_link": true
    },
    "kernelspec": {
      "name": "python3",
      "display_name": "Python 3"
    },
    "accelerator": "GPU"
  },
  "cells": [
    {
      "cell_type": "markdown",
      "metadata": {
        "id": "view-in-github",
        "colab_type": "text"
      },
      "source": [
        "<a href=\"https://colab.research.google.com/github/noeljaymon/Emotion-Detection-using-DL/blob/master/Inception_emotion.ipynb\" target=\"_parent\"><img src=\"https://colab.research.google.com/assets/colab-badge.svg\" alt=\"Open In Colab\"/></a>"
      ]
    },
    {
      "cell_type": "code",
      "metadata": {
        "id": "Y6CZyedlQdu7",
        "colab_type": "code",
        "colab": {
          "base_uri": "https://localhost:8080/",
          "height": 34
        },
        "outputId": "eb1650a5-22ef-4038-f0fb-16ccd84e55dc"
      },
      "source": [
        "import numpy as np\n",
        "import pandas as pd\n",
        "import matplotlib.pyplot as plt\n",
        "from time import time\n",
        "from time import sleep\n",
        "import re\n",
        "import os\n",
        "import argparse\n",
        "from collections import OrderedDict\n",
        "import matplotlib.animation as animation\n",
        "\n",
        "### Image processing ###\n",
        "from scipy.ndimage import zoom\n",
        "from scipy.spatial import distance\n",
        "import imutils\n",
        "from scipy import ndimage\n",
        "import cv2\n",
        "import dlib\n",
        "from __future__ import division\n",
        "from imutils import face_utils\n",
        "\n",
        "### CNN models ###\n",
        "import keras\n",
        "from keras.preprocessing.image import ImageDataGenerator, array_to_img, img_to_array, load_img\n",
        "from keras.callbacks import TensorBoard\n",
        "from keras.models import Sequential\n",
        "from keras.layers.core import Dense, Dropout, Activation, Flatten\n",
        "from keras.layers.convolutional import Conv2D, MaxPooling2D, SeparableConv2D\n",
        "from keras.utils import np_utils\n",
        "from keras.regularizers import l2#, activity_l2\n",
        "from keras.optimizers import SGD, RMSprop\n",
        "from keras.utils import to_categorical\n",
        "from keras.layers.normalization import BatchNormalization\n",
        "from keras import models\n",
        "from keras.utils.vis_utils import plot_model\n",
        "from keras.layers import Input, GlobalAveragePooling2D\n",
        "from keras.models import Model\n",
        "from tensorflow.keras import layers"
      ],
      "execution_count": null,
      "outputs": [
        {
          "output_type": "stream",
          "text": [
            "Using TensorFlow backend.\n"
          ],
          "name": "stderr"
        }
      ]
    },
    {
      "cell_type": "code",
      "metadata": {
        "id": "3MXwW9akQ6hJ",
        "colab_type": "code",
        "colab": {}
      },
      "source": [
        "from sklearn.preprocessing import OneHotEncoder\n",
        "from sklearn.model_selection import train_test_split\n",
        "from sklearn.metrics import accuracy_score\n",
        "from sklearn import svm\n",
        "\n",
        "### Same trained models ###\n",
        "import h5py\n",
        "from keras.models import model_from_json\n",
        "import pickle"
      ],
      "execution_count": null,
      "outputs": []
    },
    {
      "cell_type": "code",
      "metadata": {
        "id": "IFlwRmwdRA_8",
        "colab_type": "code",
        "colab": {}
      },
      "source": [
        "dataset= pd.read_csv('/content/drive/My Drive/fer2013.csv')"
      ],
      "execution_count": null,
      "outputs": []
    },
    {
      "cell_type": "code",
      "metadata": {
        "id": "Fa4tV9sTRXdJ",
        "colab_type": "code",
        "colab": {
          "base_uri": "https://localhost:8080/",
          "height": 657
        },
        "outputId": "791ae1b6-65bc-452e-96aa-26542f52ad31"
      },
      "source": [
        "train = dataset[dataset[\"Usage\"] == \"Training\"]\n",
        "\n",
        "#Obtaining test data where usage is \"PublicTest\"\n",
        "test = dataset[dataset[\"Usage\"] == \"PublicTest\"]\n",
        "test2=dataset[dataset[\"Usage\"] == \"PrivateTest\"]\n",
        "\n",
        "#Converting \" \" separated pixel values to list\n",
        "train['pixels'] = train['pixels'].apply(lambda image_px : np.fromstring(image_px, sep = ' '))\n",
        "test['pixels'] = test['pixels'].apply(lambda image_px : np.fromstring(image_px, sep = ' '))\n",
        "test2['pixels'] = test2['pixels'].apply(lambda image_px : np.fromstring(image_px, sep = ' '))\n",
        "dataset['pixels'] = dataset['pixels'].apply(lambda image_px : np.fromstring(image_px, sep = ' '))"
      ],
      "execution_count": null,
      "outputs": [
        {
          "output_type": "stream",
          "text": [
            "/usr/local/lib/python3.6/dist-packages/ipykernel_launcher.py:8: SettingWithCopyWarning: \n",
            "A value is trying to be set on a copy of a slice from a DataFrame.\n",
            "Try using .loc[row_indexer,col_indexer] = value instead\n",
            "\n",
            "See the caveats in the documentation: https://pandas.pydata.org/pandas-docs/stable/user_guide/indexing.html#returning-a-view-versus-a-copy\n",
            "  \n",
            "/usr/local/lib/python3.6/dist-packages/ipykernel_launcher.py:9: SettingWithCopyWarning: \n",
            "A value is trying to be set on a copy of a slice from a DataFrame.\n",
            "Try using .loc[row_indexer,col_indexer] = value instead\n",
            "\n",
            "See the caveats in the documentation: https://pandas.pydata.org/pandas-docs/stable/user_guide/indexing.html#returning-a-view-versus-a-copy\n",
            "  if __name__ == '__main__':\n",
            "/usr/local/lib/python3.6/dist-packages/ipykernel_launcher.py:10: SettingWithCopyWarning: \n",
            "A value is trying to be set on a copy of a slice from a DataFrame.\n",
            "Try using .loc[row_indexer,col_indexer] = value instead\n",
            "\n",
            "See the caveats in the documentation: https://pandas.pydata.org/pandas-docs/stable/user_guide/indexing.html#returning-a-view-versus-a-copy\n",
            "  # Remove the CWD from sys.path while we load stuff.\n"
          ],
          "name": "stderr"
        },
        {
          "output_type": "error",
          "ename": "KeyboardInterrupt",
          "evalue": "ignored",
          "traceback": [
            "\u001b[0;31m---------------------------------------------------------------------------\u001b[0m",
            "\u001b[0;31mKeyboardInterrupt\u001b[0m                         Traceback (most recent call last)",
            "\u001b[0;32m<ipython-input-4-b2300822aba6>\u001b[0m in \u001b[0;36m<module>\u001b[0;34m()\u001b[0m\n\u001b[1;32m      9\u001b[0m \u001b[0mtest\u001b[0m\u001b[0;34m[\u001b[0m\u001b[0;34m'pixels'\u001b[0m\u001b[0;34m]\u001b[0m \u001b[0;34m=\u001b[0m \u001b[0mtest\u001b[0m\u001b[0;34m[\u001b[0m\u001b[0;34m'pixels'\u001b[0m\u001b[0;34m]\u001b[0m\u001b[0;34m.\u001b[0m\u001b[0mapply\u001b[0m\u001b[0;34m(\u001b[0m\u001b[0;32mlambda\u001b[0m \u001b[0mimage_px\u001b[0m \u001b[0;34m:\u001b[0m \u001b[0mnp\u001b[0m\u001b[0;34m.\u001b[0m\u001b[0mfromstring\u001b[0m\u001b[0;34m(\u001b[0m\u001b[0mimage_px\u001b[0m\u001b[0;34m,\u001b[0m \u001b[0msep\u001b[0m \u001b[0;34m=\u001b[0m \u001b[0;34m' '\u001b[0m\u001b[0;34m)\u001b[0m\u001b[0;34m)\u001b[0m\u001b[0;34m\u001b[0m\u001b[0;34m\u001b[0m\u001b[0m\n\u001b[1;32m     10\u001b[0m \u001b[0mtest2\u001b[0m\u001b[0;34m[\u001b[0m\u001b[0;34m'pixels'\u001b[0m\u001b[0;34m]\u001b[0m \u001b[0;34m=\u001b[0m \u001b[0mtest2\u001b[0m\u001b[0;34m[\u001b[0m\u001b[0;34m'pixels'\u001b[0m\u001b[0;34m]\u001b[0m\u001b[0;34m.\u001b[0m\u001b[0mapply\u001b[0m\u001b[0;34m(\u001b[0m\u001b[0;32mlambda\u001b[0m \u001b[0mimage_px\u001b[0m \u001b[0;34m:\u001b[0m \u001b[0mnp\u001b[0m\u001b[0;34m.\u001b[0m\u001b[0mfromstring\u001b[0m\u001b[0;34m(\u001b[0m\u001b[0mimage_px\u001b[0m\u001b[0;34m,\u001b[0m \u001b[0msep\u001b[0m \u001b[0;34m=\u001b[0m \u001b[0;34m' '\u001b[0m\u001b[0;34m)\u001b[0m\u001b[0;34m)\u001b[0m\u001b[0;34m\u001b[0m\u001b[0;34m\u001b[0m\u001b[0m\n\u001b[0;32m---> 11\u001b[0;31m \u001b[0mdataset\u001b[0m\u001b[0;34m[\u001b[0m\u001b[0;34m'pixels'\u001b[0m\u001b[0;34m]\u001b[0m \u001b[0;34m=\u001b[0m \u001b[0mdataset\u001b[0m\u001b[0;34m[\u001b[0m\u001b[0;34m'pixels'\u001b[0m\u001b[0;34m]\u001b[0m\u001b[0;34m.\u001b[0m\u001b[0mapply\u001b[0m\u001b[0;34m(\u001b[0m\u001b[0;32mlambda\u001b[0m \u001b[0mimage_px\u001b[0m \u001b[0;34m:\u001b[0m \u001b[0mnp\u001b[0m\u001b[0;34m.\u001b[0m\u001b[0mfromstring\u001b[0m\u001b[0;34m(\u001b[0m\u001b[0mimage_px\u001b[0m\u001b[0;34m,\u001b[0m \u001b[0msep\u001b[0m \u001b[0;34m=\u001b[0m \u001b[0;34m' '\u001b[0m\u001b[0;34m)\u001b[0m\u001b[0;34m)\u001b[0m\u001b[0;34m\u001b[0m\u001b[0;34m\u001b[0m\u001b[0m\n\u001b[0m",
            "\u001b[0;32m/usr/local/lib/python3.6/dist-packages/pandas/core/series.py\u001b[0m in \u001b[0;36mapply\u001b[0;34m(self, func, convert_dtype, args, **kwds)\u001b[0m\n\u001b[1;32m   3846\u001b[0m             \u001b[0;32melse\u001b[0m\u001b[0;34m:\u001b[0m\u001b[0;34m\u001b[0m\u001b[0;34m\u001b[0m\u001b[0m\n\u001b[1;32m   3847\u001b[0m                 \u001b[0mvalues\u001b[0m \u001b[0;34m=\u001b[0m \u001b[0mself\u001b[0m\u001b[0;34m.\u001b[0m\u001b[0mastype\u001b[0m\u001b[0;34m(\u001b[0m\u001b[0mobject\u001b[0m\u001b[0;34m)\u001b[0m\u001b[0;34m.\u001b[0m\u001b[0mvalues\u001b[0m\u001b[0;34m\u001b[0m\u001b[0;34m\u001b[0m\u001b[0m\n\u001b[0;32m-> 3848\u001b[0;31m                 \u001b[0mmapped\u001b[0m \u001b[0;34m=\u001b[0m \u001b[0mlib\u001b[0m\u001b[0;34m.\u001b[0m\u001b[0mmap_infer\u001b[0m\u001b[0;34m(\u001b[0m\u001b[0mvalues\u001b[0m\u001b[0;34m,\u001b[0m \u001b[0mf\u001b[0m\u001b[0;34m,\u001b[0m \u001b[0mconvert\u001b[0m\u001b[0;34m=\u001b[0m\u001b[0mconvert_dtype\u001b[0m\u001b[0;34m)\u001b[0m\u001b[0;34m\u001b[0m\u001b[0;34m\u001b[0m\u001b[0m\n\u001b[0m\u001b[1;32m   3849\u001b[0m \u001b[0;34m\u001b[0m\u001b[0m\n\u001b[1;32m   3850\u001b[0m         \u001b[0;32mif\u001b[0m \u001b[0mlen\u001b[0m\u001b[0;34m(\u001b[0m\u001b[0mmapped\u001b[0m\u001b[0;34m)\u001b[0m \u001b[0;32mand\u001b[0m \u001b[0misinstance\u001b[0m\u001b[0;34m(\u001b[0m\u001b[0mmapped\u001b[0m\u001b[0;34m[\u001b[0m\u001b[0;36m0\u001b[0m\u001b[0;34m]\u001b[0m\u001b[0;34m,\u001b[0m \u001b[0mSeries\u001b[0m\u001b[0;34m)\u001b[0m\u001b[0;34m:\u001b[0m\u001b[0;34m\u001b[0m\u001b[0;34m\u001b[0m\u001b[0m\n",
            "\u001b[0;32mpandas/_libs/lib.pyx\u001b[0m in \u001b[0;36mpandas._libs.lib.map_infer\u001b[0;34m()\u001b[0m\n",
            "\u001b[0;32m<ipython-input-4-b2300822aba6>\u001b[0m in \u001b[0;36m<lambda>\u001b[0;34m(image_px)\u001b[0m\n\u001b[1;32m      9\u001b[0m \u001b[0mtest\u001b[0m\u001b[0;34m[\u001b[0m\u001b[0;34m'pixels'\u001b[0m\u001b[0;34m]\u001b[0m \u001b[0;34m=\u001b[0m \u001b[0mtest\u001b[0m\u001b[0;34m[\u001b[0m\u001b[0;34m'pixels'\u001b[0m\u001b[0;34m]\u001b[0m\u001b[0;34m.\u001b[0m\u001b[0mapply\u001b[0m\u001b[0;34m(\u001b[0m\u001b[0;32mlambda\u001b[0m \u001b[0mimage_px\u001b[0m \u001b[0;34m:\u001b[0m \u001b[0mnp\u001b[0m\u001b[0;34m.\u001b[0m\u001b[0mfromstring\u001b[0m\u001b[0;34m(\u001b[0m\u001b[0mimage_px\u001b[0m\u001b[0;34m,\u001b[0m \u001b[0msep\u001b[0m \u001b[0;34m=\u001b[0m \u001b[0;34m' '\u001b[0m\u001b[0;34m)\u001b[0m\u001b[0;34m)\u001b[0m\u001b[0;34m\u001b[0m\u001b[0;34m\u001b[0m\u001b[0m\n\u001b[1;32m     10\u001b[0m \u001b[0mtest2\u001b[0m\u001b[0;34m[\u001b[0m\u001b[0;34m'pixels'\u001b[0m\u001b[0;34m]\u001b[0m \u001b[0;34m=\u001b[0m \u001b[0mtest2\u001b[0m\u001b[0;34m[\u001b[0m\u001b[0;34m'pixels'\u001b[0m\u001b[0;34m]\u001b[0m\u001b[0;34m.\u001b[0m\u001b[0mapply\u001b[0m\u001b[0;34m(\u001b[0m\u001b[0;32mlambda\u001b[0m \u001b[0mimage_px\u001b[0m \u001b[0;34m:\u001b[0m \u001b[0mnp\u001b[0m\u001b[0;34m.\u001b[0m\u001b[0mfromstring\u001b[0m\u001b[0;34m(\u001b[0m\u001b[0mimage_px\u001b[0m\u001b[0;34m,\u001b[0m \u001b[0msep\u001b[0m \u001b[0;34m=\u001b[0m \u001b[0;34m' '\u001b[0m\u001b[0;34m)\u001b[0m\u001b[0;34m)\u001b[0m\u001b[0;34m\u001b[0m\u001b[0;34m\u001b[0m\u001b[0m\n\u001b[0;32m---> 11\u001b[0;31m \u001b[0mdataset\u001b[0m\u001b[0;34m[\u001b[0m\u001b[0;34m'pixels'\u001b[0m\u001b[0;34m]\u001b[0m \u001b[0;34m=\u001b[0m \u001b[0mdataset\u001b[0m\u001b[0;34m[\u001b[0m\u001b[0;34m'pixels'\u001b[0m\u001b[0;34m]\u001b[0m\u001b[0;34m.\u001b[0m\u001b[0mapply\u001b[0m\u001b[0;34m(\u001b[0m\u001b[0;32mlambda\u001b[0m \u001b[0mimage_px\u001b[0m \u001b[0;34m:\u001b[0m \u001b[0mnp\u001b[0m\u001b[0;34m.\u001b[0m\u001b[0mfromstring\u001b[0m\u001b[0;34m(\u001b[0m\u001b[0mimage_px\u001b[0m\u001b[0;34m,\u001b[0m \u001b[0msep\u001b[0m \u001b[0;34m=\u001b[0m \u001b[0;34m' '\u001b[0m\u001b[0;34m)\u001b[0m\u001b[0;34m)\u001b[0m\u001b[0;34m\u001b[0m\u001b[0;34m\u001b[0m\u001b[0m\n\u001b[0m",
            "\u001b[0;31mKeyboardInterrupt\u001b[0m: "
          ]
        }
      ]
    },
    {
      "cell_type": "code",
      "metadata": {
        "id": "aiPZ472SRqmv",
        "colab_type": "code",
        "colab": {}
      },
      "source": [
        "train.shape\n",
        "shape_x = 48\n",
        "shape_y = 48"
      ],
      "execution_count": null,
      "outputs": []
    },
    {
      "cell_type": "code",
      "metadata": {
        "id": "AaygkyQ3SmKK",
        "colab_type": "code",
        "colab": {}
      },
      "source": [
        "X_train = train.iloc[:, 1].values\n",
        "y_train = train.iloc[:, 0].values\n",
        "\n",
        "X_test = test.iloc[:, 1].values\n",
        "y_test = test.iloc[:, 0].values"
      ],
      "execution_count": null,
      "outputs": []
    },
    {
      "cell_type": "code",
      "metadata": {
        "id": "VupohCGkS1--",
        "colab_type": "code",
        "colab": {}
      },
      "source": [
        "X_test2 = test2.iloc[:, 1].values\n",
        "y_test2 = test2.iloc[:, 0].values"
      ],
      "execution_count": null,
      "outputs": []
    },
    {
      "cell_type": "code",
      "metadata": {
        "id": "b3a51VEfTX1q",
        "colab_type": "code",
        "colab": {}
      },
      "source": [
        "X = dataset.iloc[:,1].values\n",
        "y = dataset.iloc[:,0].values\n",
        "\n",
        "#np.vstack stack arrays in sequence vertically (picking element row wise)\n",
        "X_train = np.vstack(X_train)\n",
        "X_test = np.vstack(X_test)\n",
        "X = np.vstack(X)"
      ],
      "execution_count": null,
      "outputs": []
    },
    {
      "cell_type": "code",
      "metadata": {
        "id": "Ff3CpiwYTbTU",
        "colab_type": "code",
        "colab": {}
      },
      "source": [
        "X_test2 = np.vstack(X_test2)"
      ],
      "execution_count": null,
      "outputs": []
    },
    {
      "cell_type": "code",
      "metadata": {
        "id": "4yxpqgh2TpsZ",
        "colab_type": "code",
        "colab": {}
      },
      "source": [
        "X_train"
      ],
      "execution_count": null,
      "outputs": []
    },
    {
      "cell_type": "code",
      "metadata": {
        "id": "u8ivEBqlTqyQ",
        "colab_type": "code",
        "colab": {}
      },
      "source": [
        "X_train = np.reshape(X_train, (X_train.shape[0],48,48,1))\n",
        "y_train = np.reshape(y_train, (y_train.shape[0],1))\n",
        "\n",
        "X_test = np.reshape(X_test, (X_test.shape[0],48,48,1))\n",
        "y_test = np.reshape(y_test, (y_test.shape[0],1))\n",
        "\n",
        "X = np.reshape(X, (X.shape[0],48,48,1))\n",
        "y = np.reshape(y, (y.shape[0],1))\n",
        "\n",
        "print(\"Shape of X_train and y_train is \" + str(X_train.shape) +\" and \" + str(y_train.shape) +\" respectively.\")\n",
        "print(\"Shape of X_test and y_test is \" + str(X_test.shape) +\" and \" + str(y_test.shape) +\" respectively.\")"
      ],
      "execution_count": null,
      "outputs": []
    },
    {
      "cell_type": "code",
      "metadata": {
        "id": "E1Rnr6hEUvNC",
        "colab_type": "code",
        "colab": {}
      },
      "source": [
        "X_test2 = np.reshape(X_test2, (X_test2.shape[0],48,48,1))"
      ],
      "execution_count": null,
      "outputs": []
    },
    {
      "cell_type": "code",
      "metadata": {
        "id": "AqawYFMsV498",
        "colab_type": "code",
        "colab": {}
      },
      "source": [
        "X_train = X_train.astype('float32')\n",
        "X_test = X_test.astype('float32')\n",
        "X_test2 = X_test2.astype('float32')\n",
        "X = X.astype('float32')\n",
        "\n",
        "# Scale the data to lie between 0 to 1\n",
        "X_train /= 255\n",
        "X_test /= 255\n",
        "X_test2 /= 255\n",
        "X /= 255\n",
        "\n",
        "# Change the labels from integer to categorical data\n",
        "y_train = to_categorical(y_train)\n",
        "y_test = to_categorical(y_test)\n",
        "y_test2 = to_categorical(y_test2)\n",
        "y = to_categorical(y)"
      ],
      "execution_count": null,
      "outputs": []
    },
    {
      "cell_type": "code",
      "metadata": {
        "id": "lBhCjTePWwB6",
        "colab_type": "code",
        "colab": {}
      },
      "source": [
        "local_path ='/content/drive/My Drive/emotion numpy files'"
      ],
      "execution_count": null,
      "outputs": []
    },
    {
      "cell_type": "code",
      "metadata": {
        "id": "sU7-a-vpWRQC",
        "colab_type": "code",
        "colab": {}
      },
      "source": [
        "\n",
        "#np.save( 'X_train', X_train)\n",
        "#np.save( 'X_test', X_test)\n",
        "#np.save( 'X', X)\n",
        "#np.save( 'y_train', y_train)\n",
        "#np.save( 'y_test', y_test)\n",
        "#np.save( 'y', y)"
      ],
      "execution_count": null,
      "outputs": []
    },
    {
      "cell_type": "code",
      "metadata": {
        "id": "BiviPgp2XiyB",
        "colab_type": "code",
        "colab": {}
      },
      "source": [
        "#np.save( 'X_test2', X_test2)\n",
        "#np.save( 'y_test2', y_test2)"
      ],
      "execution_count": null,
      "outputs": []
    },
    {
      "cell_type": "code",
      "metadata": {
        "id": "g_cXjrBhX1lx",
        "colab_type": "code",
        "colab": {}
      },
      "source": [
        "local_path ='/content/drive/My Drive/emotion numpy files'\n",
        "X_train = np.load(local_path + \"/X_train.npy\")\n",
        "X_test2 = np.load(local_path + \"/X_test2.npy\")\n",
        "y_train = np.load(local_path + \"/y_train.npy\")\n",
        "y_test2 = np.load(local_path + \"/y_test2.npy\")\n",
        "y_test = np.load(local_path + \"/y_test.npy\")\n",
        "X_test = np.load(local_path + \"/X_test.npy\")"
      ],
      "execution_count": null,
      "outputs": []
    },
    {
      "cell_type": "code",
      "metadata": {
        "id": "i9PCAEZXZsqV",
        "colab_type": "code",
        "colab": {}
      },
      "source": [
        "shape_x = 48\n",
        "shape_y = 48\n",
        "nRows,nCols,nDims = X_train.shape[1:]\n",
        "input_shape = (nRows, nCols, nDims)\n",
        "classes = [0,1,2,3,4,5,6]\n",
        "nClasses = len(classes)\n"
      ],
      "execution_count": null,
      "outputs": []
    },
    {
      "cell_type": "code",
      "metadata": {
        "id": "uIj3zDyYgvMn",
        "colab_type": "code",
        "colab": {}
      },
      "source": [
        "nClasses "
      ],
      "execution_count": null,
      "outputs": []
    },
    {
      "cell_type": "code",
      "metadata": {
        "id": "kqU7UeEZg1Ms",
        "colab_type": "code",
        "colab": {}
      },
      "source": [
        ""
      ],
      "execution_count": null,
      "outputs": []
    },
    {
      "cell_type": "code",
      "metadata": {
        "id": "66E4UUlnii1R",
        "colab_type": "code",
        "colab": {}
      },
      "source": [
        ""
      ],
      "execution_count": null,
      "outputs": []
    },
    {
      "cell_type": "code",
      "metadata": {
        "id": "GGC6xCb7inaG",
        "colab_type": "code",
        "colab": {}
      },
      "source": [
        "plot_model(model, show_shapes=True, show_layer_names=True)"
      ],
      "execution_count": null,
      "outputs": []
    },
    {
      "cell_type": "code",
      "metadata": {
        "id": "8JJ5ND8Tiw77",
        "colab_type": "code",
        "colab": {}
      },
      "source": [
        "input_img = Input(shape=(shape_x, shape_y, 1))\n",
        "\n",
        "layer1 = Conv2D(10, (3, 3), padding='same', activation='relu')(input_img)\n",
        "layer1_2 = Conv2D(20, (3, 3), padding='same', activation='relu')(layer1)\n",
        "layer2 = MaxPooling2D(pool_size=(3, 3))(layer1_2)\n",
        "bn1 = BatchNormalization()(layer2)\n",
        "\n",
        "layer3 = Conv2D(30, (3, 3), padding='same', activation='relu')(bn1)\n",
        "layer3_2 = Conv2D(40, (3, 3), padding='same', activation='relu')(layer3)\n",
        "layer4 = MaxPooling2D(pool_size=(3, 3))(layer3_2)\n",
        "bn2 = BatchNormalization()(layer4)\n",
        "\n",
        "layer5 = Conv2D(50, (3, 3), padding='same', activation='relu')(bn2)\n",
        "layer5_2 = Conv2D(60, (3, 3), padding='same', activation='relu')(layer5)\n",
        "layer6 = MaxPooling2D(pool_size=(3, 3))(layer5_2)\n",
        "bn3 = BatchNormalization()(layer6)\n",
        "\n",
        "Conv11 = Conv2D(1, (1, 1), padding='same', activation='relu')(bn3)\n",
        "Conv33 = Conv2D(4, (3, 3), padding='same', activation='relu')(bn3)\n",
        "Conv332 = Conv2D(1, (3, 3), padding='same', activation='relu')(Conv33)\n",
        "Conv55 = Conv2D(4, (5, 5), padding='same', activation='relu')(bn3)\n",
        "Conv552 = Conv2D(1, (3, 3), padding='same', activation='relu')(Conv55)\n",
        "#Pool33 = MaxPooling2D(pool_size=(3, 3))(bn3)\n",
        "#ConvPool1 = Conv2D(4, (1, 1), padding='same', activation='relu')(Pool33)\n",
        "\n",
        "intermediate1 = keras.layers.concatenate([Conv11, Conv332, Conv552], axis=1)"
      ],
      "execution_count": null,
      "outputs": []
    },
    {
      "cell_type": "code",
      "metadata": {
        "id": "hoYH502lkOcl",
        "colab_type": "code",
        "colab": {}
      },
      "source": [
        "Conv2_11 = Conv2D(1, (1, 1), padding='same', activation='relu')(intermediate1)\n",
        "Conv2_33 = Conv2D(4, (3, 3), padding='same', activation='relu')(intermediate1)\n",
        "Conv2_332 = Conv2D(1, (3, 3), padding='same', activation='relu')(Conv2_33)\n",
        "Conv2_55 = Conv2D(4, (5, 5), padding='same', activation='relu')(intermediate1)\n",
        "Conv2_552 = Conv2D(1, (3, 3), padding='same', activation='relu')(Conv2_55)\n",
        "Pool2_33 = MaxPooling2D(pool_size=(1, 1))(intermediate1)\n",
        "ConvPool2 = Conv2D(1, (1, 1), padding='same', activation='relu')(Pool2_33)\n",
        "\n",
        "intermediate2 = keras.layers.concatenate([Conv2_11, Conv2_332, Conv2_552,ConvPool2], axis=1)\n",
        "\n",
        "Conv3_11 = Conv2D(1, (1, 1), padding='same', activation='relu')(intermediate2)\n",
        "Conv3_33 = Conv2D(4, (3, 3), padding='same', activation='relu')(intermediate2)\n",
        "Conv3_332 = Conv2D(1, (3, 3), padding='same', activation='relu')(Conv3_33)\n",
        "Conv3_55 = Conv2D(4, (5, 5), padding='same', activation='relu')(intermediate2)\n",
        "Conv3_552 = Conv2D(1, (3, 3), padding='same', activation='relu')(Conv3_55)\n",
        "Pool3_33 = MaxPooling2D(pool_size=(1, 1))(intermediate2)\n",
        "ConvPool3 = Conv2D(1, (1, 1), padding='same', activation='relu')(Pool3_33)\n",
        "\n",
        "intermediate3 = keras.layers.concatenate([Conv3_11, Conv3_332, Conv3_552,ConvPool3], axis=1)\n",
        "Conv4_11 = Conv2D(1, (1, 1), padding='same', activation='relu')(intermediate3)\n",
        "Conv4_33 = Conv2D(4, (3, 3), padding='same', activation='relu')(intermediate3)\n",
        "Conv4_332 = Conv2D(1, (3, 3), padding='same', activation='relu')(Conv4_33)\n",
        "Conv4_55 = Conv2D(4, (5, 5), padding='same', activation='relu')(intermediate3)\n",
        "Conv4_552 = Conv2D(1, (3, 3), padding='same', activation='relu')(Conv4_55)\n",
        "#Pool3_33 = MaxPooling2D(pool_size=(3, 3))(intermediate3)\n",
        "#ConvPool3 = Conv2D(4, (1, 1), padding='same', activation='relu')(Pool3_33)\n",
        "intermediate4 = keras.layers.concatenate([Conv4_11, Conv4_332, Conv4_552], axis=1)\n",
        "#Pool4 = MaxPooling2D(pool_size=(3, 3))(intermediate3)\n",
        "\n",
        "Flat = Flatten()(intermediate4)\n",
        "\n",
        "Dense1 = Dense(1024, activation='relu')(Flat)\n",
        "drp=Dropout(0.4)(Dense1)\n",
        "Dense2 = Dense(512, activation='relu')(drp)\n",
        "Dense3 = Dense(7, activation='softmax')(Dense2)"
      ],
      "execution_count": null,
      "outputs": []
    },
    {
      "cell_type": "code",
      "metadata": {
        "id": "ZtFYW369kS--",
        "colab_type": "code",
        "colab": {}
      },
      "source": [
        "model = Model([input_img], Dense3)"
      ],
      "execution_count": null,
      "outputs": []
    },
    {
      "cell_type": "code",
      "metadata": {
        "id": "-vV_1u-5MG98",
        "colab_type": "code",
        "colab": {}
      },
      "source": [
        "model.summary()"
      ],
      "execution_count": null,
      "outputs": []
    },
    {
      "cell_type": "code",
      "metadata": {
        "id": "tsjzuioukWM5",
        "colab_type": "code",
        "colab": {}
      },
      "source": [
        "plot_model(model, show_shapes=True, show_layer_names=True)"
      ],
      "execution_count": null,
      "outputs": []
    },
    {
      "cell_type": "code",
      "metadata": {
        "id": "lppy-uCLkZU6",
        "colab_type": "code",
        "colab": {}
      },
      "source": [
        "model.compile(optimizer='adam', loss='categorical_crossentropy', metrics=['accuracy'])\n",
        " \n",
        "batch_size = 128\n",
        "epochs = 150\n"
      ],
      "execution_count": null,
      "outputs": []
    },
    {
      "cell_type": "code",
      "metadata": {
        "id": "HVrea8ptlsCq",
        "colab_type": "code",
        "colab": {
          "base_uri": "https://localhost:8080/",
          "height": 1000
        },
        "outputId": "1b26dede-4efe-4de1-a1cf-152219a541d1"
      },
      "source": [
        "datagen = ImageDataGenerator(\n",
        "        zoom_range=0.1,          # randomly zoom into images\n",
        "        rotation_range=30,       # randomly rotate images in the range (degrees, 0 to 180)\n",
        "        width_shift_range=0.1,   # randomly shift images horizontally (fraction of total width)\n",
        "        height_shift_range=0.1,  # randomly shift images vertically (fraction of total height)\n",
        "        horizontal_flip=True,    # randomly flip images\n",
        "        vertical_flip=False)     # randomly flip images\n",
        "\n",
        "history = model.fit_generator(\n",
        "    datagen.flow(X_train, y_train, batch_size=batch_size),\n",
        "    steps_per_epoch=int(np.ceil(X_train.shape[0] / float(batch_size))),\n",
        "    epochs = epochs, \n",
        "    validation_data=(X_test, y_test))"
      ],
      "execution_count": null,
      "outputs": [
        {
          "output_type": "stream",
          "text": [
            "Epoch 1/150\n",
            "225/225 [==============================] - 22s 100ms/step - loss: 1.7786 - accuracy: 0.2577 - val_loss: 1.9244 - val_accuracy: 0.2494\n",
            "Epoch 2/150\n",
            "225/225 [==============================] - 13s 56ms/step - loss: 1.6422 - accuracy: 0.3322 - val_loss: 1.7478 - val_accuracy: 0.2976\n",
            "Epoch 3/150\n",
            "225/225 [==============================] - 13s 58ms/step - loss: 1.5129 - accuracy: 0.3895 - val_loss: 1.4453 - val_accuracy: 0.4138\n",
            "Epoch 4/150\n",
            "225/225 [==============================] - 13s 57ms/step - loss: 1.4357 - accuracy: 0.4297 - val_loss: 1.4191 - val_accuracy: 0.4383\n",
            "Epoch 5/150\n",
            "225/225 [==============================] - 13s 57ms/step - loss: 1.3765 - accuracy: 0.4604 - val_loss: 1.4774 - val_accuracy: 0.4330\n",
            "Epoch 6/150\n",
            "225/225 [==============================] - 13s 57ms/step - loss: 1.3349 - accuracy: 0.4815 - val_loss: 1.3307 - val_accuracy: 0.4845\n",
            "Epoch 7/150\n",
            "225/225 [==============================] - 13s 58ms/step - loss: 1.3077 - accuracy: 0.4902 - val_loss: 1.3294 - val_accuracy: 0.4859\n",
            "Epoch 8/150\n",
            "225/225 [==============================] - 13s 60ms/step - loss: 1.2803 - accuracy: 0.5030 - val_loss: 1.2648 - val_accuracy: 0.5127\n",
            "Epoch 9/150\n",
            "225/225 [==============================] - 13s 59ms/step - loss: 1.2609 - accuracy: 0.5112 - val_loss: 1.2798 - val_accuracy: 0.5043\n",
            "Epoch 10/150\n",
            "225/225 [==============================] - 13s 59ms/step - loss: 1.2464 - accuracy: 0.5181 - val_loss: 1.2478 - val_accuracy: 0.5216\n",
            "Epoch 11/150\n",
            "225/225 [==============================] - 13s 59ms/step - loss: 1.2307 - accuracy: 0.5254 - val_loss: 1.2228 - val_accuracy: 0.5288\n",
            "Epoch 12/150\n",
            "225/225 [==============================] - 13s 60ms/step - loss: 1.2165 - accuracy: 0.5345 - val_loss: 1.2337 - val_accuracy: 0.5375\n",
            "Epoch 13/150\n",
            "225/225 [==============================] - 13s 59ms/step - loss: 1.2098 - accuracy: 0.5376 - val_loss: 1.2041 - val_accuracy: 0.5339\n",
            "Epoch 14/150\n",
            "225/225 [==============================] - 13s 60ms/step - loss: 1.2020 - accuracy: 0.5391 - val_loss: 1.1888 - val_accuracy: 0.5383\n",
            "Epoch 15/150\n",
            "225/225 [==============================] - 13s 60ms/step - loss: 1.1866 - accuracy: 0.5451 - val_loss: 1.2523 - val_accuracy: 0.5361\n",
            "Epoch 16/150\n",
            "225/225 [==============================] - 13s 59ms/step - loss: 1.1810 - accuracy: 0.5463 - val_loss: 1.2379 - val_accuracy: 0.5286\n",
            "Epoch 17/150\n",
            "225/225 [==============================] - 13s 59ms/step - loss: 1.1810 - accuracy: 0.5506 - val_loss: 1.1707 - val_accuracy: 0.5556\n",
            "Epoch 18/150\n",
            "225/225 [==============================] - 13s 59ms/step - loss: 1.1640 - accuracy: 0.5590 - val_loss: 1.2746 - val_accuracy: 0.5205\n",
            "Epoch 19/150\n",
            "225/225 [==============================] - 13s 59ms/step - loss: 1.1627 - accuracy: 0.5590 - val_loss: 1.1677 - val_accuracy: 0.5581\n",
            "Epoch 20/150\n",
            "225/225 [==============================] - 13s 59ms/step - loss: 1.1563 - accuracy: 0.5620 - val_loss: 1.1715 - val_accuracy: 0.5645\n",
            "Epoch 21/150\n",
            "225/225 [==============================] - 13s 59ms/step - loss: 1.1521 - accuracy: 0.5617 - val_loss: 1.1978 - val_accuracy: 0.5525\n",
            "Epoch 22/150\n",
            "225/225 [==============================] - 13s 58ms/step - loss: 1.1455 - accuracy: 0.5638 - val_loss: 1.2203 - val_accuracy: 0.5405\n",
            "Epoch 23/150\n",
            "225/225 [==============================] - 13s 59ms/step - loss: 1.1400 - accuracy: 0.5682 - val_loss: 1.1509 - val_accuracy: 0.5639\n",
            "Epoch 24/150\n",
            "225/225 [==============================] - 13s 59ms/step - loss: 1.1330 - accuracy: 0.5747 - val_loss: 1.1420 - val_accuracy: 0.5734\n",
            "Epoch 25/150\n",
            "225/225 [==============================] - 13s 59ms/step - loss: 1.1327 - accuracy: 0.5713 - val_loss: 1.1406 - val_accuracy: 0.5737\n",
            "Epoch 26/150\n",
            "225/225 [==============================] - 13s 59ms/step - loss: 1.1266 - accuracy: 0.5738 - val_loss: 1.1484 - val_accuracy: 0.5729\n",
            "Epoch 27/150\n",
            "225/225 [==============================] - 13s 59ms/step - loss: 1.1257 - accuracy: 0.5752 - val_loss: 1.1336 - val_accuracy: 0.5790\n",
            "Epoch 28/150\n",
            "225/225 [==============================] - 13s 58ms/step - loss: 1.1191 - accuracy: 0.5763 - val_loss: 1.1630 - val_accuracy: 0.5681\n",
            "Epoch 29/150\n",
            "225/225 [==============================] - 13s 59ms/step - loss: 1.1164 - accuracy: 0.5770 - val_loss: 1.1709 - val_accuracy: 0.5637\n",
            "Epoch 30/150\n",
            "225/225 [==============================] - 13s 59ms/step - loss: 1.1122 - accuracy: 0.5799 - val_loss: 1.1582 - val_accuracy: 0.5653\n",
            "Epoch 31/150\n",
            "225/225 [==============================] - 13s 58ms/step - loss: 1.1065 - accuracy: 0.5818 - val_loss: 1.1153 - val_accuracy: 0.5768\n",
            "Epoch 32/150\n",
            "225/225 [==============================] - 13s 58ms/step - loss: 1.1080 - accuracy: 0.5812 - val_loss: 1.1712 - val_accuracy: 0.5564\n",
            "Epoch 33/150\n",
            "225/225 [==============================] - 13s 59ms/step - loss: 1.1014 - accuracy: 0.5853 - val_loss: 1.1584 - val_accuracy: 0.5706\n",
            "Epoch 34/150\n",
            "225/225 [==============================] - 13s 59ms/step - loss: 1.1051 - accuracy: 0.5844 - val_loss: 1.1725 - val_accuracy: 0.5589\n",
            "Epoch 35/150\n",
            "225/225 [==============================] - 13s 58ms/step - loss: 1.0938 - accuracy: 0.5884 - val_loss: 1.1157 - val_accuracy: 0.5832\n",
            "Epoch 36/150\n",
            "225/225 [==============================] - 13s 58ms/step - loss: 1.0938 - accuracy: 0.5903 - val_loss: 1.1330 - val_accuracy: 0.5795\n",
            "Epoch 37/150\n",
            "225/225 [==============================] - 13s 59ms/step - loss: 1.0939 - accuracy: 0.5873 - val_loss: 1.1587 - val_accuracy: 0.5642\n",
            "Epoch 38/150\n",
            "225/225 [==============================] - 13s 59ms/step - loss: 1.0892 - accuracy: 0.5876 - val_loss: 1.1343 - val_accuracy: 0.5667\n",
            "Epoch 39/150\n",
            "225/225 [==============================] - 13s 59ms/step - loss: 1.0908 - accuracy: 0.5881 - val_loss: 1.1150 - val_accuracy: 0.5812\n",
            "Epoch 40/150\n",
            "225/225 [==============================] - 13s 58ms/step - loss: 1.0833 - accuracy: 0.5900 - val_loss: 1.1353 - val_accuracy: 0.5720\n",
            "Epoch 41/150\n",
            "225/225 [==============================] - 13s 59ms/step - loss: 1.0812 - accuracy: 0.5932 - val_loss: 1.2546 - val_accuracy: 0.5196\n",
            "Epoch 42/150\n",
            "225/225 [==============================] - 13s 59ms/step - loss: 1.0834 - accuracy: 0.5913 - val_loss: 1.1038 - val_accuracy: 0.5804\n",
            "Epoch 43/150\n",
            "225/225 [==============================] - 13s 58ms/step - loss: 1.0777 - accuracy: 0.5929 - val_loss: 1.1276 - val_accuracy: 0.5798\n",
            "Epoch 44/150\n",
            "225/225 [==============================] - 13s 59ms/step - loss: 1.0737 - accuracy: 0.5989 - val_loss: 1.1983 - val_accuracy: 0.5520\n",
            "Epoch 45/150\n",
            "225/225 [==============================] - 13s 59ms/step - loss: 1.0738 - accuracy: 0.5964 - val_loss: 1.1563 - val_accuracy: 0.5642\n",
            "Epoch 46/150\n",
            "225/225 [==============================] - 13s 59ms/step - loss: 1.0703 - accuracy: 0.5967 - val_loss: 1.1054 - val_accuracy: 0.5834\n",
            "Epoch 47/150\n",
            "225/225 [==============================] - 13s 59ms/step - loss: 1.0699 - accuracy: 0.5964 - val_loss: 1.1446 - val_accuracy: 0.5740\n",
            "Epoch 48/150\n",
            "225/225 [==============================] - 13s 59ms/step - loss: 1.0639 - accuracy: 0.5975 - val_loss: 1.1013 - val_accuracy: 0.5843\n",
            "Epoch 49/150\n",
            "225/225 [==============================] - 13s 57ms/step - loss: 1.0684 - accuracy: 0.6000 - val_loss: 1.1014 - val_accuracy: 0.5904\n",
            "Epoch 50/150\n",
            "225/225 [==============================] - 13s 57ms/step - loss: 1.0594 - accuracy: 0.6002 - val_loss: 1.1159 - val_accuracy: 0.5815\n",
            "Epoch 51/150\n",
            "225/225 [==============================] - 13s 57ms/step - loss: 1.0654 - accuracy: 0.6010 - val_loss: 1.1877 - val_accuracy: 0.5642\n",
            "Epoch 52/150\n",
            "225/225 [==============================] - 13s 57ms/step - loss: 1.0608 - accuracy: 0.6000 - val_loss: 1.1147 - val_accuracy: 0.5893\n",
            "Epoch 53/150\n",
            "225/225 [==============================] - 13s 57ms/step - loss: 1.0556 - accuracy: 0.6028 - val_loss: 1.0979 - val_accuracy: 0.5829\n",
            "Epoch 54/150\n",
            "225/225 [==============================] - 13s 58ms/step - loss: 1.0566 - accuracy: 0.5991 - val_loss: 1.0965 - val_accuracy: 0.5910\n",
            "Epoch 55/150\n",
            "225/225 [==============================] - 13s 57ms/step - loss: 1.0532 - accuracy: 0.6028 - val_loss: 1.1751 - val_accuracy: 0.5606\n",
            "Epoch 56/150\n",
            "225/225 [==============================] - 13s 57ms/step - loss: 1.0580 - accuracy: 0.6021 - val_loss: 1.0850 - val_accuracy: 0.6016\n",
            "Epoch 57/150\n",
            "225/225 [==============================] - 13s 57ms/step - loss: 1.0502 - accuracy: 0.6050 - val_loss: 1.1538 - val_accuracy: 0.5712\n",
            "Epoch 58/150\n",
            "225/225 [==============================] - 13s 57ms/step - loss: 1.0536 - accuracy: 0.6039 - val_loss: 1.1009 - val_accuracy: 0.5837\n",
            "Epoch 59/150\n",
            "225/225 [==============================] - 13s 57ms/step - loss: 1.0488 - accuracy: 0.6045 - val_loss: 1.2134 - val_accuracy: 0.5637\n",
            "Epoch 60/150\n",
            "225/225 [==============================] - 13s 57ms/step - loss: 1.0447 - accuracy: 0.6103 - val_loss: 1.1243 - val_accuracy: 0.5762\n",
            "Epoch 61/150\n",
            "225/225 [==============================] - 13s 58ms/step - loss: 1.0452 - accuracy: 0.6080 - val_loss: 1.1680 - val_accuracy: 0.5600\n",
            "Epoch 62/150\n",
            "225/225 [==============================] - 13s 58ms/step - loss: 1.0453 - accuracy: 0.6057 - val_loss: 1.1367 - val_accuracy: 0.5748\n",
            "Epoch 63/150\n",
            "225/225 [==============================] - 13s 57ms/step - loss: 1.0395 - accuracy: 0.6110 - val_loss: 1.1151 - val_accuracy: 0.5874\n",
            "Epoch 64/150\n",
            "225/225 [==============================] - 13s 57ms/step - loss: 1.0437 - accuracy: 0.6089 - val_loss: 1.0896 - val_accuracy: 0.5963\n",
            "Epoch 65/150\n",
            "225/225 [==============================] - 13s 58ms/step - loss: 1.0435 - accuracy: 0.6101 - val_loss: 1.0907 - val_accuracy: 0.5929\n",
            "Epoch 66/150\n",
            "225/225 [==============================] - 13s 58ms/step - loss: 1.0365 - accuracy: 0.6127 - val_loss: 1.0976 - val_accuracy: 0.5840\n",
            "Epoch 67/150\n",
            "225/225 [==============================] - 13s 57ms/step - loss: 1.0410 - accuracy: 0.6080 - val_loss: 1.0876 - val_accuracy: 0.5893\n",
            "Epoch 68/150\n",
            "225/225 [==============================] - 13s 57ms/step - loss: 1.0426 - accuracy: 0.6081 - val_loss: 1.1153 - val_accuracy: 0.5921\n",
            "Epoch 69/150\n",
            "225/225 [==============================] - 13s 57ms/step - loss: 1.0399 - accuracy: 0.6117 - val_loss: 1.0807 - val_accuracy: 0.6018\n",
            "Epoch 70/150\n",
            "225/225 [==============================] - 13s 58ms/step - loss: 1.0380 - accuracy: 0.6119 - val_loss: 1.1152 - val_accuracy: 0.5821\n",
            "Epoch 71/150\n",
            "225/225 [==============================] - 13s 57ms/step - loss: 1.0325 - accuracy: 0.6110 - val_loss: 1.1242 - val_accuracy: 0.5837\n",
            "Epoch 72/150\n",
            "225/225 [==============================] - 13s 57ms/step - loss: 1.0307 - accuracy: 0.6118 - val_loss: 1.0744 - val_accuracy: 0.5985\n",
            "Epoch 73/150\n",
            "225/225 [==============================] - 13s 57ms/step - loss: 1.0340 - accuracy: 0.6108 - val_loss: 1.0565 - val_accuracy: 0.6018\n",
            "Epoch 74/150\n",
            "225/225 [==============================] - 13s 57ms/step - loss: 1.0307 - accuracy: 0.6120 - val_loss: 1.0929 - val_accuracy: 0.5893\n",
            "Epoch 75/150\n",
            "225/225 [==============================] - 13s 57ms/step - loss: 1.0300 - accuracy: 0.6144 - val_loss: 1.1229 - val_accuracy: 0.5860\n",
            "Epoch 76/150\n",
            "225/225 [==============================] - 13s 57ms/step - loss: 1.0281 - accuracy: 0.6159 - val_loss: 1.1592 - val_accuracy: 0.5639\n",
            "Epoch 77/150\n",
            "225/225 [==============================] - 13s 57ms/step - loss: 1.0256 - accuracy: 0.6171 - val_loss: 1.0745 - val_accuracy: 0.5913\n",
            "Epoch 78/150\n",
            "225/225 [==============================] - 13s 57ms/step - loss: 1.0286 - accuracy: 0.6150 - val_loss: 1.1475 - val_accuracy: 0.5823\n",
            "Epoch 79/150\n",
            "225/225 [==============================] - 13s 58ms/step - loss: 1.0262 - accuracy: 0.6134 - val_loss: 1.1206 - val_accuracy: 0.5840\n",
            "Epoch 80/150\n",
            "225/225 [==============================] - 13s 57ms/step - loss: 1.0281 - accuracy: 0.6149 - val_loss: 1.1192 - val_accuracy: 0.5885\n",
            "Epoch 81/150\n",
            "225/225 [==============================] - 13s 57ms/step - loss: 1.0251 - accuracy: 0.6180 - val_loss: 1.1296 - val_accuracy: 0.5759\n",
            "Epoch 82/150\n",
            "225/225 [==============================] - 13s 57ms/step - loss: 1.0237 - accuracy: 0.6153 - val_loss: 1.0965 - val_accuracy: 0.5899\n",
            "Epoch 83/150\n",
            "225/225 [==============================] - 13s 57ms/step - loss: 1.0147 - accuracy: 0.6205 - val_loss: 1.0925 - val_accuracy: 0.5946\n",
            "Epoch 84/150\n",
            "225/225 [==============================] - 13s 57ms/step - loss: 1.0189 - accuracy: 0.6161 - val_loss: 1.0766 - val_accuracy: 0.5982\n",
            "Epoch 85/150\n",
            "225/225 [==============================] - 13s 58ms/step - loss: 1.0167 - accuracy: 0.6198 - val_loss: 1.0827 - val_accuracy: 0.5935\n",
            "Epoch 86/150\n",
            "225/225 [==============================] - 13s 58ms/step - loss: 1.0243 - accuracy: 0.6180 - val_loss: 1.0659 - val_accuracy: 0.5999\n",
            "Epoch 87/150\n",
            "225/225 [==============================] - 13s 57ms/step - loss: 1.0184 - accuracy: 0.6212 - val_loss: 1.0966 - val_accuracy: 0.5946\n",
            "Epoch 88/150\n",
            "225/225 [==============================] - 13s 57ms/step - loss: 1.0175 - accuracy: 0.6175 - val_loss: 1.0812 - val_accuracy: 0.5977\n",
            "Epoch 89/150\n",
            "225/225 [==============================] - 13s 57ms/step - loss: 1.0192 - accuracy: 0.6202 - val_loss: 1.0811 - val_accuracy: 0.6027\n",
            "Epoch 90/150\n",
            "225/225 [==============================] - 13s 57ms/step - loss: 1.0132 - accuracy: 0.6219 - val_loss: 1.0723 - val_accuracy: 0.5890\n",
            "Epoch 91/150\n",
            "225/225 [==============================] - 13s 57ms/step - loss: 1.0085 - accuracy: 0.6189 - val_loss: 1.0728 - val_accuracy: 0.5999\n",
            "Epoch 92/150\n",
            "225/225 [==============================] - 13s 57ms/step - loss: 1.0172 - accuracy: 0.6207 - val_loss: 1.0934 - val_accuracy: 0.5924\n",
            "Epoch 93/150\n",
            "225/225 [==============================] - 13s 57ms/step - loss: 1.0136 - accuracy: 0.6196 - val_loss: 1.1101 - val_accuracy: 0.5801\n",
            "Epoch 94/150\n",
            "225/225 [==============================] - 13s 57ms/step - loss: 1.0143 - accuracy: 0.6213 - val_loss: 1.0930 - val_accuracy: 0.5885\n",
            "Epoch 95/150\n",
            "225/225 [==============================] - 13s 57ms/step - loss: 1.0192 - accuracy: 0.6186 - val_loss: 1.0851 - val_accuracy: 0.5893\n",
            "Epoch 96/150\n",
            "225/225 [==============================] - 13s 57ms/step - loss: 1.0142 - accuracy: 0.6222 - val_loss: 1.0601 - val_accuracy: 0.6105\n",
            "Epoch 97/150\n",
            "225/225 [==============================] - 13s 57ms/step - loss: 1.0106 - accuracy: 0.6193 - val_loss: 1.1033 - val_accuracy: 0.5926\n",
            "Epoch 98/150\n",
            "225/225 [==============================] - 13s 57ms/step - loss: 1.0065 - accuracy: 0.6234 - val_loss: 1.1000 - val_accuracy: 0.5932\n",
            "Epoch 99/150\n",
            "225/225 [==============================] - 13s 57ms/step - loss: 1.0123 - accuracy: 0.6235 - val_loss: 1.1416 - val_accuracy: 0.5798\n",
            "Epoch 100/150\n",
            "225/225 [==============================] - 13s 57ms/step - loss: 1.0061 - accuracy: 0.6220 - val_loss: 1.1075 - val_accuracy: 0.5848\n",
            "Epoch 101/150\n",
            "225/225 [==============================] - 13s 57ms/step - loss: 1.0047 - accuracy: 0.6254 - val_loss: 1.0792 - val_accuracy: 0.5985\n",
            "Epoch 102/150\n",
            "225/225 [==============================] - 13s 57ms/step - loss: 1.0029 - accuracy: 0.6250 - val_loss: 1.0857 - val_accuracy: 0.5946\n",
            "Epoch 103/150\n",
            "225/225 [==============================] - 13s 57ms/step - loss: 1.0125 - accuracy: 0.6243 - val_loss: 1.0746 - val_accuracy: 0.6032\n",
            "Epoch 104/150\n",
            "225/225 [==============================] - 13s 58ms/step - loss: 1.0080 - accuracy: 0.6246 - val_loss: 1.0703 - val_accuracy: 0.6004\n",
            "Epoch 105/150\n",
            "225/225 [==============================] - 13s 57ms/step - loss: 1.0093 - accuracy: 0.6252 - val_loss: 1.0664 - val_accuracy: 0.5982\n",
            "Epoch 106/150\n",
            "225/225 [==============================] - 13s 57ms/step - loss: 1.0077 - accuracy: 0.6244 - val_loss: 1.1312 - val_accuracy: 0.5765\n",
            "Epoch 107/150\n",
            "225/225 [==============================] - 13s 57ms/step - loss: 1.0051 - accuracy: 0.6238 - val_loss: 1.0962 - val_accuracy: 0.5932\n",
            "Epoch 108/150\n",
            "225/225 [==============================] - 13s 57ms/step - loss: 1.0066 - accuracy: 0.6223 - val_loss: 1.0903 - val_accuracy: 0.5899\n",
            "Epoch 109/150\n",
            "225/225 [==============================] - 13s 58ms/step - loss: 1.0017 - accuracy: 0.6260 - val_loss: 1.0694 - val_accuracy: 0.5965\n",
            "Epoch 110/150\n",
            "225/225 [==============================] - 13s 58ms/step - loss: 1.0056 - accuracy: 0.6279 - val_loss: 1.0707 - val_accuracy: 0.6007\n",
            "Epoch 111/150\n",
            "225/225 [==============================] - 13s 57ms/step - loss: 0.9991 - accuracy: 0.6265 - val_loss: 1.0572 - val_accuracy: 0.6094\n",
            "Epoch 112/150\n",
            "225/225 [==============================] - 13s 57ms/step - loss: 1.0026 - accuracy: 0.6236 - val_loss: 1.1280 - val_accuracy: 0.5812\n",
            "Epoch 113/150\n",
            "225/225 [==============================] - 13s 58ms/step - loss: 1.0028 - accuracy: 0.6277 - val_loss: 1.1202 - val_accuracy: 0.5915\n",
            "Epoch 114/150\n",
            "225/225 [==============================] - 13s 57ms/step - loss: 0.9992 - accuracy: 0.6283 - val_loss: 1.0841 - val_accuracy: 0.5957\n",
            "Epoch 115/150\n",
            "225/225 [==============================] - 13s 57ms/step - loss: 1.0015 - accuracy: 0.6267 - val_loss: 1.0657 - val_accuracy: 0.6091\n",
            "Epoch 116/150\n",
            "225/225 [==============================] - 13s 57ms/step - loss: 1.0019 - accuracy: 0.6259 - val_loss: 1.1190 - val_accuracy: 0.5821\n",
            "Epoch 117/150\n",
            "225/225 [==============================] - 13s 57ms/step - loss: 0.9986 - accuracy: 0.6278 - val_loss: 1.1003 - val_accuracy: 0.5826\n",
            "Epoch 118/150\n",
            "225/225 [==============================] - 13s 57ms/step - loss: 1.0028 - accuracy: 0.6255 - val_loss: 1.0716 - val_accuracy: 0.6004\n",
            "Epoch 119/150\n",
            "225/225 [==============================] - 13s 58ms/step - loss: 0.9982 - accuracy: 0.6288 - val_loss: 1.1070 - val_accuracy: 0.5804\n",
            "Epoch 120/150\n",
            "225/225 [==============================] - 13s 57ms/step - loss: 1.0037 - accuracy: 0.6229 - val_loss: 1.1056 - val_accuracy: 0.5885\n",
            "Epoch 121/150\n",
            "225/225 [==============================] - 13s 57ms/step - loss: 1.0045 - accuracy: 0.6236 - val_loss: 1.1184 - val_accuracy: 0.5907\n",
            "Epoch 122/150\n",
            "225/225 [==============================] - 13s 58ms/step - loss: 0.9981 - accuracy: 0.6278 - val_loss: 1.0709 - val_accuracy: 0.6041\n",
            "Epoch 123/150\n",
            "225/225 [==============================] - 13s 58ms/step - loss: 0.9995 - accuracy: 0.6254 - val_loss: 1.0782 - val_accuracy: 0.6027\n",
            "Epoch 124/150\n",
            "225/225 [==============================] - 13s 57ms/step - loss: 0.9973 - accuracy: 0.6284 - val_loss: 1.1039 - val_accuracy: 0.5915\n",
            "Epoch 125/150\n",
            "225/225 [==============================] - 13s 57ms/step - loss: 0.9978 - accuracy: 0.6271 - val_loss: 1.1148 - val_accuracy: 0.5885\n",
            "Epoch 126/150\n",
            "225/225 [==============================] - 13s 58ms/step - loss: 0.9942 - accuracy: 0.6281 - val_loss: 1.1087 - val_accuracy: 0.5910\n",
            "Epoch 127/150\n",
            "225/225 [==============================] - 13s 58ms/step - loss: 0.9856 - accuracy: 0.6336 - val_loss: 1.0664 - val_accuracy: 0.6082\n",
            "Epoch 128/150\n",
            "225/225 [==============================] - 13s 58ms/step - loss: 0.9953 - accuracy: 0.6304 - val_loss: 1.1092 - val_accuracy: 0.5907\n",
            "Epoch 129/150\n",
            "225/225 [==============================] - 13s 58ms/step - loss: 0.9904 - accuracy: 0.6304 - val_loss: 1.1082 - val_accuracy: 0.5890\n",
            "Epoch 130/150\n",
            "225/225 [==============================] - 13s 58ms/step - loss: 0.9924 - accuracy: 0.6316 - val_loss: 1.0638 - val_accuracy: 0.6138\n",
            "Epoch 131/150\n",
            "225/225 [==============================] - 13s 57ms/step - loss: 0.9925 - accuracy: 0.6300 - val_loss: 1.0639 - val_accuracy: 0.6038\n",
            "Epoch 132/150\n",
            "225/225 [==============================] - 13s 58ms/step - loss: 0.9910 - accuracy: 0.6316 - val_loss: 1.0641 - val_accuracy: 0.6069\n",
            "Epoch 133/150\n",
            "225/225 [==============================] - 13s 58ms/step - loss: 0.9926 - accuracy: 0.6293 - val_loss: 1.0848 - val_accuracy: 0.5971\n",
            "Epoch 134/150\n",
            "225/225 [==============================] - 13s 58ms/step - loss: 0.9967 - accuracy: 0.6286 - val_loss: 1.0906 - val_accuracy: 0.5954\n",
            "Epoch 135/150\n",
            "225/225 [==============================] - 13s 58ms/step - loss: 0.9897 - accuracy: 0.6319 - val_loss: 1.0899 - val_accuracy: 0.6027\n",
            "Epoch 136/150\n",
            "225/225 [==============================] - 13s 58ms/step - loss: 0.9861 - accuracy: 0.6311 - val_loss: 1.1295 - val_accuracy: 0.5874\n",
            "Epoch 137/150\n",
            "225/225 [==============================] - 13s 58ms/step - loss: 0.9879 - accuracy: 0.6306 - val_loss: 1.0704 - val_accuracy: 0.6141\n",
            "Epoch 138/150\n",
            "225/225 [==============================] - 13s 57ms/step - loss: 0.9881 - accuracy: 0.6308 - val_loss: 1.0757 - val_accuracy: 0.6013\n",
            "Epoch 139/150\n",
            "225/225 [==============================] - 13s 57ms/step - loss: 0.9848 - accuracy: 0.6319 - val_loss: 1.0780 - val_accuracy: 0.6032\n",
            "Epoch 140/150\n",
            "225/225 [==============================] - 13s 57ms/step - loss: 0.9877 - accuracy: 0.6327 - val_loss: 1.0982 - val_accuracy: 0.5982\n",
            "Epoch 141/150\n",
            "225/225 [==============================] - 13s 57ms/step - loss: 0.9857 - accuracy: 0.6321 - val_loss: 1.0660 - val_accuracy: 0.6099\n",
            "Epoch 142/150\n",
            "225/225 [==============================] - 13s 57ms/step - loss: 0.9917 - accuracy: 0.6278 - val_loss: 1.0497 - val_accuracy: 0.6108\n",
            "Epoch 143/150\n",
            "225/225 [==============================] - 13s 57ms/step - loss: 0.9807 - accuracy: 0.6325 - val_loss: 1.0613 - val_accuracy: 0.6080\n",
            "Epoch 144/150\n",
            "225/225 [==============================] - 13s 57ms/step - loss: 0.9944 - accuracy: 0.6275 - val_loss: 1.0678 - val_accuracy: 0.6077\n",
            "Epoch 145/150\n",
            "225/225 [==============================] - 13s 57ms/step - loss: 0.9830 - accuracy: 0.6355 - val_loss: 1.0744 - val_accuracy: 0.6043\n",
            "Epoch 146/150\n",
            "225/225 [==============================] - 13s 57ms/step - loss: 0.9830 - accuracy: 0.6349 - val_loss: 1.0635 - val_accuracy: 0.6043\n",
            "Epoch 147/150\n",
            "225/225 [==============================] - 13s 58ms/step - loss: 0.9887 - accuracy: 0.6273 - val_loss: 1.1173 - val_accuracy: 0.5913\n",
            "Epoch 148/150\n",
            "225/225 [==============================] - 13s 58ms/step - loss: 0.9853 - accuracy: 0.6306 - val_loss: 1.0994 - val_accuracy: 0.5974\n",
            "Epoch 149/150\n",
            "225/225 [==============================] - 13s 57ms/step - loss: 0.9828 - accuracy: 0.6365 - val_loss: 1.0822 - val_accuracy: 0.6032\n",
            "Epoch 150/150\n",
            "225/225 [==============================] - 13s 57ms/step - loss: 0.9833 - accuracy: 0.6340 - val_loss: 1.0630 - val_accuracy: 0.6052\n"
          ],
          "name": "stdout"
        }
      ]
    },
    {
      "cell_type": "code",
      "metadata": {
        "id": "mq2L-4N3ly6t",
        "colab_type": "code",
        "colab": {}
      },
      "source": [
        "\n",
        "# Loss Curves\n",
        "plt.figure(figsize=[8,6])\n",
        "plt.plot(history.history['loss'],'r',linewidth=2.0)\n",
        "plt.plot(history.history['val_loss'],'b',linewidth=2.0)\n",
        "plt.legend(['Training loss', 'Validation Loss'],fontsize=18)\n",
        "plt.xlabel('Epochs ',fontsize=16)\n",
        "plt.ylabel('Loss',fontsize=16)\n",
        "plt.title('Loss Curves',fontsize=16)\n",
        " \n",
        "# Accuracy Curves\n",
        "plt.figure(figsize=[8,6])\n",
        "plt.plot(history.history['accuracy'],'r',linewidth=2.0)\n",
        "plt.plot(history.history['val_accuracy'],'b',linewidth=2.0)\n",
        "plt.legend(['Training Accuracy', 'Validation Accuracy'],fontsize=18)\n",
        "plt.xlabel('Epochs ',fontsize=16)\n",
        "plt.ylabel('Accuracy',fontsize=16)\n",
        "plt.title('Accuracy Curves',fontsize=16)"
      ],
      "execution_count": null,
      "outputs": []
    },
    {
      "cell_type": "code",
      "metadata": {
        "id": "6xBCAx7axOaI",
        "colab_type": "code",
        "colab": {
          "base_uri": "https://localhost:8080/",
          "height": 52
        },
        "outputId": "14260178-77af-49c4-e95a-d0a62250a1a8"
      },
      "source": [
        "score = model.evaluate(X_test2, y_test2, batch_size=batch_size)\n",
        "print(score)"
      ],
      "execution_count": null,
      "outputs": [
        {
          "output_type": "stream",
          "text": [
            "3589/3589 [==============================] - 0s 63us/step\n",
            "[1.015868356215253, 0.6146559119224548]\n"
          ],
          "name": "stdout"
        }
      ]
    },
    {
      "cell_type": "code",
      "metadata": {
        "id": "I9-53H59-ymq",
        "colab_type": "code",
        "colab": {}
      },
      "source": [
        ""
      ],
      "execution_count": null,
      "outputs": []
    }
  ]
}