def entry_flow(inputs) :
    
    x = Conv2D(32, (3,3), strides = (2,2), padding='same')(inputs)
    x = BatchNormalization()(x)
    x = Activation('relu')(x)
    x = Conv2D(64,(3,3), strides = (2,2),padding='same')(x)
    x = BatchNormalization(axis=3)(x)
    x = Activation('relu')(x)
  
    
    previous_block_activation = x
    
    for size in [128, 256, 728] :
    
        x = Activation('relu')(x)
        x = SeparableConv2D(size,(3,3), padding='same')(x)
        x = BatchNormalization()(x)
        
        x = Activation('relu')(x)
        x = SeparableConv2D(size, (3,3), padding='same')(x)
        x = BatchNormalization()(x)
        
        
        x = MaxPooling2D((3,3), strides=2, padding='same')(x)
        
        residual = Conv2D(size, (1,1), strides=2, padding='same')(previous_block_activation)
        
        x = keras.layers.Add()([x, residual])
        previous_block_activation = x
    
    return x
